{
 "cells": [
  {
   "cell_type": "code",
   "execution_count": 16,
   "id": "5d7ba16c",
   "metadata": {},
   "outputs": [
    {
     "name": "stdout",
     "output_type": "stream",
     "text": [
      "        data     categoria      E/D    valor           descrição\n",
      "0 2025-01-09  Clash Champs  Entrada  3124.55    pagamento do mes\n",
      "1 2025-01-09          Casa    Saída   700.00                 Mae\n",
      "2 2025-01-09       Jessica    Saída   150.00  peguei emprestado \n",
      "3 2025-01-09      Divorcio    Saída   220.00            divorcio\n",
      "4 2025-01-09      Academia    Saída   132.90       Treino fisico\n"
     ]
    }
   ],
   "source": [
    "import pandas as pd\n",
    "\n",
    "# 1) Função que trata cada célula da coluna 'valor'\n",
    "def parse_val(v):\n",
    "    # mantém NaN\n",
    "    if pd.isna(v):\n",
    "        return v\n",
    "    # se já vier número, devolve como está\n",
    "    if isinstance(v, (int, float)):\n",
    "        return v\n",
    "    # senão é string: limpa símbolo e espaços\n",
    "    s = str(v).replace(\"R$\", \"\").replace(\" \", \"\")\n",
    "    # se tiver tanto ponto quanto vírgula, o ponto é separador de milhar\n",
    "    if \".\" in s and \",\" in s:\n",
    "        s = s.replace(\".\", \"\")\n",
    "    # agora troca a vírgula decimal\n",
    "    s = s.replace(\",\", \".\")\n",
    "    return float(s)\n",
    "\n",
    "# 2) Leitura selecionando só A:E e aplicando o parse ao carregar\n",
    "df = pd.read_excel(\n",
    "    \"Financas.xlsx\",\n",
    "    usecols=\"A:E\",\n",
    "    engine=\"openpyxl\",\n",
    "    converters={\"valor\": parse_val},\n",
    ")\n",
    "\n",
    "# 3) Descarta linhas sem data (os blocos de Saldo/Dívidas etc)\n",
    "df = df.dropna(subset=[\"data\"])\n",
    "\n",
    "# 4) (Opcional) garante datetime\n",
    "df[\"data\"] = pd.to_datetime(df[\"data\"], dayfirst=True)\n",
    "\n",
    "# 5) Confirma\n",
    "print(df.head())\n"
   ]
  },
  {
   "cell_type": "code",
   "execution_count": null,
   "id": "04ead852",
   "metadata": {},
   "outputs": [],
   "source": [
    "import pandas as pd\n",
    "\n",
    "# --- 1) Supondo que você já tenha feito isso antes: ---\n",
    "# df = pd.read_excel(..., usecols=\"A:E\", engine=\"openpyxl\", converters={\"valor\": parse_val})\n",
    "# df = df.dropna(subset=[\"data\"])\n",
    "# df[\"data\"] = pd.to_datetime(df[\"data\"], dayfirst=True)\n",
    "\n",
    "# --- 2) Filtra somente Abril de 2025 ---\n",
    "mask_abril = (\n",
    "    (df[\"data\"].dt.year  == 2025) &\n",
    "    (df[\"data\"].dt.month == 4)\n",
    ")\n",
    "abril = df.loc[mask_abril]\n",
    "\n",
    "# --- 3) Soma entradas (ganhos) e saídas (gastos) ---\n",
    "total_entradas = abril.loc[abril[\"E/D\"] == \"Entrada\", \"valor\"].sum()\n",
    "total_saidas   = abril.loc[abril[\"E/D\"] == \"Saida\",   \"valor\"].sum()\n",
    "\n",
    "# --- 4) Exibe o resultado ---\n",
    "print(\"📅 Resumo de Abril/2025\")\n",
    "print(f\"  • Total Ganhos (Entradas): R$ {total_entradas:,.2f}\")\n",
    "print(f\"  • Total Gastos  (Saídas) : R$ {total_saidas:,.2f}\")\n",
    "print(f\"  • Saldo do Mês            : R$ {total_entradas - total_saidas:,.2f}\")\n"
   ]
  },
  {
   "cell_type": "code",
   "execution_count": 20,
   "id": "6e0e7658",
   "metadata": {},
   "outputs": [
    {
     "name": "stdout",
     "output_type": "stream",
     "text": [
      "📅 Resumo de Abril/2025\n",
      "  • Total Ganhos (Entrada): R$ 4,567.84\n",
      "  • Total Gastos (Saída)  : R$ 4,356.08\n",
      "  • Saldo do Mês           : R$ 211.76\n"
     ]
    }
   ],
   "source": [
    "import pandas as pd\n",
    "import unicodedata\n",
    "\n",
    "# 1) Converte corretamente “3.124,55” ou “700,00” em float\n",
    "def parse_val(v):\n",
    "    if pd.isna(v): \n",
    "        return 0.0\n",
    "    s = str(v).replace(\"R$\", \"\").replace(\" \", \"\")\n",
    "    if \".\" in s and \",\" in s:\n",
    "        s = s.replace(\".\", \"\")\n",
    "    s = s.replace(\",\", \".\")\n",
    "    try:\n",
    "        return float(s)\n",
    "    except ValueError:\n",
    "        return 0.0\n",
    "\n",
    "# 2) Remove acentos e lower-case\n",
    "def normalize(s: str) -> str:\n",
    "    s = str(s)\n",
    "    nk = unicodedata.normalize(\"NFD\", s)\n",
    "    no_acc = \"\".join(ch for ch in nk if unicodedata.category(ch) != \"Mn\")\n",
    "    return no_acc.lower().strip()\n",
    "\n",
    "# 3) Leitura e limpeza inicial\n",
    "df = pd.read_excel(\n",
    "    \"Financas.xlsx\",\n",
    "    usecols=\"A:E\",\n",
    "    engine=\"openpyxl\",\n",
    "    converters={\"valor\": parse_val}\n",
    ").dropna(subset=[\"data\"])\n",
    "df[\"data\"] = pd.to_datetime(df[\"data\"], dayfirst=True)\n",
    "\n",
    "# 4) Normaliza o tipo (entrada/saida)\n",
    "df[\"tipo\"] = df[\"E/D\"].apply(normalize)\n",
    "\n",
    "# (Opcional: debug)  \n",
    "# print(\"Tipos únicos em E/D:\", df[\"tipo\"].unique())\n",
    "\n",
    "# 5) Filtra Abril de 2025\n",
    "mask = (df[\"data\"].dt.year == 2025) & (df[\"data\"].dt.month == 4)\n",
    "abril = df.loc[mask]\n",
    "\n",
    "# 6) Soma entradas e saídas\n",
    "total_entradas = abril.loc[abril[\"tipo\"] == \"entrada\", \"valor\"].sum()\n",
    "total_saidas   = abril.loc[abril[\"tipo\"] == \"saida\",   \"valor\"].sum()\n",
    "\n",
    "# 7) Resultado\n",
    "print(\"📅 Resumo de Abril/2025\")\n",
    "print(f\"  • Total Ganhos (Entrada): R$ {total_entradas:,.2f}\")\n",
    "print(f\"  • Total Gastos (Saída)  : R$ {total_saidas:,.2f}\")\n",
    "print(f\"  • Saldo do Mês           : R$ {total_entradas - total_saidas:,.2f}\")\n"
   ]
  },
  {
   "cell_type": "code",
   "execution_count": 22,
   "id": "d3c53f69",
   "metadata": {},
   "outputs": [
    {
     "name": "stdout",
     "output_type": "stream",
     "text": [
      "💸 Total de Gastos (Saídas) em Março/2025: R$ 4,454.33\n"
     ]
    }
   ],
   "source": [
    "import pandas as pd\n",
    "import unicodedata\n",
    "\n",
    "# 1) Função para converter corretamente valores “3.124,55” ou “700,00” em floats\n",
    "def parse_val(v):\n",
    "    if pd.isna(v):\n",
    "        return 0.0\n",
    "    s = str(v).replace(\"R$\", \"\").replace(\" \", \"\")\n",
    "    if \".\" in s and \",\" in s:\n",
    "        s = s.replace(\".\", \"\")\n",
    "    s = s.replace(\",\", \".\")\n",
    "    try:\n",
    "        return float(s)\n",
    "    except ValueError:\n",
    "        return 0.0\n",
    "\n",
    "# 2) Função para normalizar “Entrada”/“Saída” (removendo acentos e lower-case)\n",
    "def normalize(s: str) -> str:\n",
    "    nk = unicodedata.normalize(\"NFD\", str(s))\n",
    "    no_acc = \"\".join(ch for ch in nk if unicodedata.category(ch) != \"Mn\")\n",
    "    return no_acc.lower().strip()\n",
    "\n",
    "# 3) Carrega apenas colunas A–E e aplica parse_val em “valor”\n",
    "df = pd.read_excel(\n",
    "    \"Financas.xlsx\",\n",
    "    usecols=\"A:E\",\n",
    "    engine=\"openpyxl\",\n",
    "    converters={\"valor\": parse_val}\n",
    ").dropna(subset=[\"data\"])\n",
    "\n",
    "# 4) Converte data e normaliza o tipo\n",
    "df[\"data\"] = pd.to_datetime(df[\"data\"], dayfirst=True)\n",
    "df[\"tipo\"] = df[\"E/D\"].apply(normalize)\n",
    "\n",
    "# 5) Filtra apenas as Saídas de Março/2025 e soma\n",
    "mask = (\n",
    "    (df[\"data\"].dt.year  == 2025) &\n",
    "    (df[\"data\"].dt.month == 3)   &\n",
    "    (df[\"tipo\"]           == \"saida\")\n",
    ")\n",
    "total_saidas_marco = df.loc[mask, \"valor\"].sum()\n",
    "\n",
    "# 6) Exibe o total\n",
    "print(f\"💸 Total de Gastos (Saídas) em Março/2025: R$ {total_saidas_marco:,.2f}\")\n"
   ]
  },
  {
   "cell_type": "code",
   "execution_count": 23,
   "id": "12ee7f15",
   "metadata": {},
   "outputs": [
    {
     "name": "stdout",
     "output_type": "stream",
     "text": [
      "💸 Total de Gastos (Saídas) em Maio/2025: R$ 3,329.95\n"
     ]
    }
   ],
   "source": [
    "# 1) Monta a máscara para Maio/2025 e tipo 'saida'\n",
    "mask_maio = (\n",
    "    (df[\"data\"].dt.year  == 2025) &\n",
    "    (df[\"data\"].dt.month == 5)   &\n",
    "    (df[\"tipo\"]           == \"saida\")\n",
    ")\n",
    "\n",
    "# 2) Calcula a soma das saídas\n",
    "total_saidas_maio = df.loc[mask_maio, \"valor\"].sum()\n",
    "\n",
    "# 3) Exibe o resultado\n",
    "print(f\"💸 Total de Gastos (Saídas) em Maio/2025: R$ {total_saidas_maio:,.2f}\")"
   ]
  }
 ],
 "metadata": {
  "kernelspec": {
   "display_name": ".venv",
   "language": "python",
   "name": "python3"
  },
  "language_info": {
   "codemirror_mode": {
    "name": "ipython",
    "version": 3
   },
   "file_extension": ".py",
   "mimetype": "text/x-python",
   "name": "python",
   "nbconvert_exporter": "python",
   "pygments_lexer": "ipython3",
   "version": "3.12.5"
  }
 },
 "nbformat": 4,
 "nbformat_minor": 5
}
